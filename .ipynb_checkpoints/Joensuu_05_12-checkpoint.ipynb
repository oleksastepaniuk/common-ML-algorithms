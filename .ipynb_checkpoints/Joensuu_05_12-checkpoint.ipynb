{
 "cells": [
  {
   "cell_type": "markdown",
   "metadata": {},
   "source": [
    "# Data Mining Coursework. Joensuu"
   ]
  },
  {
   "cell_type": "code",
   "execution_count": 47,
   "metadata": {},
   "outputs": [],
   "source": [
    "import numpy as np\n",
    "import pandas as pd\n",
    "import matplotlib.pyplot as plt\n",
    "import gmaps # for interactive google maps\n",
    "from utm import from_latlon\n",
    "from ast import literal_eval # to convert string to list\n",
    "\n",
    "import dm_functions as dm\n",
    "import k_means as kmeans"
   ]
  },
  {
   "cell_type": "markdown",
   "metadata": {},
   "source": [
    "## Download data"
   ]
  },
  {
   "cell_type": "markdown",
   "metadata": {},
   "source": [
    "Download data from the web"
   ]
  },
  {
   "cell_type": "code",
   "execution_count": 48,
   "metadata": {},
   "outputs": [
    {
     "data": {
      "text/html": [
       "<div>\n",
       "<style scoped>\n",
       "    .dataframe tbody tr th:only-of-type {\n",
       "        vertical-align: middle;\n",
       "    }\n",
       "\n",
       "    .dataframe tbody tr th {\n",
       "        vertical-align: top;\n",
       "    }\n",
       "\n",
       "    .dataframe thead th {\n",
       "        text-align: right;\n",
       "    }\n",
       "</style>\n",
       "<table border=\"1\" class=\"dataframe\">\n",
       "  <thead>\n",
       "    <tr style=\"text-align: right;\">\n",
       "      <th></th>\n",
       "      <th>latitude</th>\n",
       "      <th>longitude</th>\n",
       "    </tr>\n",
       "  </thead>\n",
       "  <tbody>\n",
       "    <tr>\n",
       "      <th>0</th>\n",
       "      <td>62.59809</td>\n",
       "      <td>29.74448</td>\n",
       "    </tr>\n",
       "    <tr>\n",
       "      <th>1</th>\n",
       "      <td>62.59809</td>\n",
       "      <td>29.74448</td>\n",
       "    </tr>\n",
       "    <tr>\n",
       "      <th>2</th>\n",
       "      <td>62.59809</td>\n",
       "      <td>29.74448</td>\n",
       "    </tr>\n",
       "    <tr>\n",
       "      <th>3</th>\n",
       "      <td>62.61943</td>\n",
       "      <td>29.69410</td>\n",
       "    </tr>\n",
       "    <tr>\n",
       "      <th>4</th>\n",
       "      <td>62.60326</td>\n",
       "      <td>29.74494</td>\n",
       "    </tr>\n",
       "  </tbody>\n",
       "</table>\n",
       "</div>"
      ],
      "text/plain": [
       "   latitude  longitude\n",
       "0  62.59809   29.74448\n",
       "1  62.59809   29.74448\n",
       "2  62.59809   29.74448\n",
       "3  62.61943   29.69410\n",
       "4  62.60326   29.74494"
      ]
     },
     "execution_count": 48,
     "metadata": {},
     "output_type": "execute_result"
    }
   ],
   "source": [
    "file_path = \"http://cs.joensuu.fi/sipu/datasets/MopsiLocations2012-Joensuu.txt\"\n",
    "df_location = np.genfromtxt(file_path, delimiter=\" \").tolist()  # save coordinates as numpy array\n",
    "\n",
    "df = pd.DataFrame(df_location)  # create dataframe for convenient data exploration and visualisation        \n",
    "df.columns = ['latitude', 'longitude']\n",
    "\n",
    "len_1 = len(df) # remeber the length of initial dataset\n",
    "del(df_location, file_path)\n",
    "\n",
    "df.head()"
   ]
  },
  {
   "cell_type": "markdown",
   "metadata": {},
   "source": [
    "## Exploratory analysis"
   ]
  },
  {
   "cell_type": "markdown",
   "metadata": {},
   "source": [
    "Plot coordinates on the map"
   ]
  },
  {
   "cell_type": "code",
   "execution_count": 31,
   "metadata": {},
   "outputs": [],
   "source": [
    "# # Source: https://github.com/pbugnion/gmaps\n",
    "\n",
    "# gmaps.configure(api_key=\"XXXX\") # Google API key\n",
    "\n",
    "# joensuu_layer = gmaps.symbol_layer(\n",
    "#     df, fill_color=\"#737373\", fill_opacity=0.2, stroke_color=\"#737373\", stroke_opacity=0.2, scale=2\n",
    "# )\n",
    "# fig = gmaps.figure()\n",
    "# fig.add_layer(joensuu_layer)\n",
    "# fig"
   ]
  },
  {
   "cell_type": "markdown",
   "metadata": {},
   "source": [
    "![Coordinates on the map](img/map_all_points_big.png)\n",
    "<center>**Picture 1. Distribution of coordinate points**</center>"
   ]
  },
  {
   "cell_type": "markdown",
   "metadata": {
    "variables": {
     "round(df.quantile(0.025)[0], 2)": "62.12",
     "round(df.quantile(0.025)[1], 2)": "28.28",
     "round(df.quantile(0.975)[0], 2)": "63.32",
     "round(df.quantile(0.975)[1], 2)": "30.14"
    }
   },
   "source": [
    "**Conclusion:** According to the problem description, our dataset \"contains 6014 coordinates points, latitude and longitude, which were collected from users location until the year of 2012, in the city of Joensuu, Finland.\" Exploratory analysis confirmed that majority of points are located in the Joensuu or in the close proximity from it:\n",
    "\n",
    "|           | Joensuu city center   |2.5% quantile                       | 97.5% quantile                     |\n",
    "|-----------|-----------------------|------------------------------------|------------------------------------|\n",
    "|latitude   | 62.6                  |{{round(df.quantile(0.025)[0], 2)}} |{{round(df.quantile(0.975)[0], 2)}} |\n",
    "|longitude  | 29.75                 |{{round(df.quantile(0.025)[1], 2)}} |{{round(df.quantile(0.975)[1], 2)}} |\n",
    "**Table 1. 95% of points are close to the Joensuu city center**\n",
    "\n",
    "However, as can be seen from the Picture 1, there is a significant group of points distributed all over South-East of Finland. For instance, several points are from the city of Kajaani 200 km to the North from Joensuu.\n",
    "\n",
    "Taking into account the fact that we are interested in points from Joensuu, we would like to filter-out points from places far from Joensuu city center. Moreover, if we do not do it, the result of clustering will mpstly likely correspond to the actual cities: one big cluster for Joensuu and smaller clusters for Lieksa, Kuopino and Kajaani. It is a more interesting task to determine clusters inside the Joensuu itself.\n",
    "\n",
    "One of the ways to do this is to calculate the distance from Joensuu city center to each point in the dataset and then apply empirical criteria, for example keep points within 10 km from the city center."
   ]
  },
  {
   "cell_type": "markdown",
   "metadata": {},
   "source": [
    "## Pre-processing data"
   ]
  },
  {
   "cell_type": "markdown",
   "metadata": {},
   "source": [
    "### Remove points not related to Joensuu"
   ]
  },
  {
   "cell_type": "markdown",
   "metadata": {},
   "source": [
    "To calculate the distance form the city center we will use haversine formula of distance between two points on the sphere. Formula does not takes into account that Earth is not a perfect sphere but an oblate spheroid. Our points are relatively close to each other, so this should not introduce a significant error.\n",
    "\n",
    "Implementation of earth_distance function is my translation of [JavaScript](https://www.movable-type.co.uk/scripts/latlong.html) code into Python."
   ]
  },
  {
   "cell_type": "code",
   "execution_count": 32,
   "metadata": {},
   "outputs": [
    {
     "data": {
      "text/html": [
       "<div>\n",
       "<style scoped>\n",
       "    .dataframe tbody tr th:only-of-type {\n",
       "        vertical-align: middle;\n",
       "    }\n",
       "\n",
       "    .dataframe tbody tr th {\n",
       "        vertical-align: top;\n",
       "    }\n",
       "\n",
       "    .dataframe thead th {\n",
       "        text-align: right;\n",
       "    }\n",
       "</style>\n",
       "<table border=\"1\" class=\"dataframe\">\n",
       "  <thead>\n",
       "    <tr style=\"text-align: right;\">\n",
       "      <th></th>\n",
       "      <th>latitude</th>\n",
       "      <th>longitude</th>\n",
       "      <th>distance</th>\n",
       "    </tr>\n",
       "  </thead>\n",
       "  <tbody>\n",
       "    <tr>\n",
       "      <th>0</th>\n",
       "      <td>62.59809</td>\n",
       "      <td>29.74448</td>\n",
       "      <td>0.353806</td>\n",
       "    </tr>\n",
       "    <tr>\n",
       "      <th>1</th>\n",
       "      <td>62.59809</td>\n",
       "      <td>29.74448</td>\n",
       "      <td>0.353806</td>\n",
       "    </tr>\n",
       "    <tr>\n",
       "      <th>2</th>\n",
       "      <td>62.59809</td>\n",
       "      <td>29.74448</td>\n",
       "      <td>0.353806</td>\n",
       "    </tr>\n",
       "    <tr>\n",
       "      <th>3</th>\n",
       "      <td>62.61943</td>\n",
       "      <td>29.69410</td>\n",
       "      <td>3.587985</td>\n",
       "    </tr>\n",
       "    <tr>\n",
       "      <th>4</th>\n",
       "      <td>62.60326</td>\n",
       "      <td>29.74494</td>\n",
       "      <td>0.445963</td>\n",
       "    </tr>\n",
       "  </tbody>\n",
       "</table>\n",
       "</div>"
      ],
      "text/plain": [
       "   latitude  longitude  distance\n",
       "0  62.59809   29.74448  0.353806\n",
       "1  62.59809   29.74448  0.353806\n",
       "2  62.59809   29.74448  0.353806\n",
       "3  62.61943   29.69410  3.587985\n",
       "4  62.60326   29.74494  0.445963"
      ]
     },
     "execution_count": 32,
     "metadata": {},
     "output_type": "execute_result"
    }
   ],
   "source": [
    "def joensuu_distance():\n",
    "    \n",
    "    center = [62.6, 29.75]\n",
    "    length = len(df)\n",
    "    dist = []\n",
    "    \n",
    "    for i in range(length):\n",
    "        dist += [dm.earth_distance(center, df[['latitude', 'longitude']].iloc[i])]\n",
    "        \n",
    "    return dist\n",
    "\n",
    "df = df.assign(distance = joensuu_distance())\n",
    "df.head()"
   ]
  },
  {
   "cell_type": "markdown",
   "metadata": {},
   "source": [
    "Plot distance distribution\n",
    "\n",
    "The second spike denotes points from the town Lieksa 80 km to the North from Joensuu."
   ]
  },
  {
   "cell_type": "code",
   "execution_count": 33,
   "metadata": {},
   "outputs": [
    {
     "data": {
      "image/png": "[encoded data removed]",
      "text/plain": [
       "<Figure size 360x360 with 1 Axes>"
      ]
     },
     "metadata": {},
     "output_type": "display_data"
    }
   ],
   "source": [
    "fig = plt.figure()\n",
    "fig.set_size_inches(5.0, 5.0)\n",
    "\n",
    "plt.hist(df[\"distance\"], 20, density = True)\n",
    "plt.xlabel(\"Distance to the Joensuu city center\")\n",
    "plt.ylabel(\"Probability density\")\n",
    "    \n",
    "plt.savefig ( \"distance_hist.pdf\" , bbox_inches =\"tight\")\n",
    "del(fig)"
   ]
  },
  {
   "cell_type": "markdown",
   "metadata": {
    "variables": {
     "round(df['distance'].quantile(0.5), 1)": "2.3",
     "round(df['distance'].quantile(0.7), 1)": "6.1",
     "round(df['distance'].quantile(0.85), 1)": "75.2",
     "round(dm.vector_max(df['distance']),1)": "206.5"
    }
   },
   "source": [
    "Summary for the distance\n",
    "\n",
    "* distribution is definitely not normal\n",
    "* a very large variance: 50% of observations are within {{round(df['distance'].quantile(0.5), 1)}} km from the city center but some observations are {{round(dm.vector_max(df['distance']),1)}} km away\n",
    "* 70% of points are within a circle with a center in the Joensuu and radius {{round(df['distance'].quantile(0.7), 1)}} km\n",
    "* 85% of points are within a circle with a center in the Joensuu and radius {{round(df['distance'].quantile(0.85), 1)}} km"
   ]
  },
  {
   "cell_type": "markdown",
   "metadata": {},
   "source": [
    "Remove observations more than 6 km away from the city center"
   ]
  },
  {
   "cell_type": "code",
   "execution_count": 34,
   "metadata": {},
   "outputs": [],
   "source": [
    "criteria_dist = abs(df['distance']) <= 6\n",
    "df = df[criteria_dist]\n",
    "\n",
    "del(criteria_dist)\n",
    "\n",
    "len_2 = len(df) # remeber the length of reduced dataset\n",
    "df = df.reset_index(drop=True) # reset row names"
   ]
  },
  {
   "cell_type": "markdown",
   "metadata": {
    "variables": {
     "round(100 - len_2/len_1*100, 1)": "30.1",
     "round(df['distance'].quantile(0.95), 1)": "4.3",
     "round(dm.vector_max(df['distance']),1)": "6.0",
     "round(dm.vector_mean(df['distance']),1)": "1.5"
    }
   },
   "source": [
    "{{round(100 - len_2/len_1*100, 1)}}% of observations were removed\n",
    "\n",
    "* 95% of observations are within {{round(df['distance'].quantile(0.95), 1)}} km from the city center\n",
    "* mean distance is {{round(dm.vector_mean(df['distance']),1)}} km\n",
    "* max distance is {{round(dm.vector_max(df['distance']),1)}} km"
   ]
  },
  {
   "cell_type": "markdown",
   "metadata": {},
   "source": [
    "### Add UTM coordinates"
   ]
  },
  {
   "cell_type": "markdown",
   "metadata": {},
   "source": [
    "To make clustering more meaningful we can transform latitude and longitude coordinates into Cartesian coordinates. As a result, Euclidian distance between points will denote actual distance. Dirence between two points with the same easting (or northing) coordinates will denote distance between them in meters."
   ]
  },
  {
   "cell_type": "code",
   "execution_count": 35,
   "metadata": {},
   "outputs": [
    {
     "data": {
      "text/html": [
       "<div>\n",
       "<style scoped>\n",
       "    .dataframe tbody tr th:only-of-type {\n",
       "        vertical-align: middle;\n",
       "    }\n",
       "\n",
       "    .dataframe tbody tr th {\n",
       "        vertical-align: top;\n",
       "    }\n",
       "\n",
       "    .dataframe thead th {\n",
       "        text-align: right;\n",
       "    }\n",
       "</style>\n",
       "<table border=\"1\" class=\"dataframe\">\n",
       "  <thead>\n",
       "    <tr style=\"text-align: right;\">\n",
       "      <th></th>\n",
       "      <th>latitude</th>\n",
       "      <th>longitude</th>\n",
       "      <th>distance</th>\n",
       "      <th>easting</th>\n",
       "      <th>northing</th>\n",
       "      <th>zone</th>\n",
       "    </tr>\n",
       "  </thead>\n",
       "  <tbody>\n",
       "    <tr>\n",
       "      <th>0</th>\n",
       "      <td>62.59809</td>\n",
       "      <td>29.74448</td>\n",
       "      <td>0.353806</td>\n",
       "      <td>640891.548198</td>\n",
       "      <td>6.943807e+06</td>\n",
       "      <td>35V</td>\n",
       "    </tr>\n",
       "    <tr>\n",
       "      <th>1</th>\n",
       "      <td>62.59809</td>\n",
       "      <td>29.74448</td>\n",
       "      <td>0.353806</td>\n",
       "      <td>640891.548198</td>\n",
       "      <td>6.943807e+06</td>\n",
       "      <td>35V</td>\n",
       "    </tr>\n",
       "    <tr>\n",
       "      <th>2</th>\n",
       "      <td>62.59809</td>\n",
       "      <td>29.74448</td>\n",
       "      <td>0.353806</td>\n",
       "      <td>640891.548198</td>\n",
       "      <td>6.943807e+06</td>\n",
       "      <td>35V</td>\n",
       "    </tr>\n",
       "    <tr>\n",
       "      <th>3</th>\n",
       "      <td>62.61943</td>\n",
       "      <td>29.69410</td>\n",
       "      <td>3.587985</td>\n",
       "      <td>638207.064116</td>\n",
       "      <td>6.946074e+06</td>\n",
       "      <td>35V</td>\n",
       "    </tr>\n",
       "    <tr>\n",
       "      <th>4</th>\n",
       "      <td>62.60326</td>\n",
       "      <td>29.74494</td>\n",
       "      <td>0.445963</td>\n",
       "      <td>640890.650678</td>\n",
       "      <td>6.944384e+06</td>\n",
       "      <td>35V</td>\n",
       "    </tr>\n",
       "  </tbody>\n",
       "</table>\n",
       "</div>"
      ],
      "text/plain": [
       "   latitude  longitude  distance        easting      northing zone\n",
       "0  62.59809   29.74448  0.353806  640891.548198  6.943807e+06  35V\n",
       "1  62.59809   29.74448  0.353806  640891.548198  6.943807e+06  35V\n",
       "2  62.59809   29.74448  0.353806  640891.548198  6.943807e+06  35V\n",
       "3  62.61943   29.69410  3.587985  638207.064116  6.946074e+06  35V\n",
       "4  62.60326   29.74494  0.445963  640890.650678  6.944384e+06  35V"
      ]
     },
     "execution_count": 35,
     "metadata": {},
     "output_type": "execute_result"
    }
   ],
   "source": [
    "def utm_coordinates():\n",
    "    \n",
    "    length   = len(df)\n",
    "    utm_points = {'easting' :[],\n",
    "                  'northing':[], \n",
    "                  'zone'    :[]}\n",
    "\n",
    "    # attach utm coordinates\n",
    "    for i in range(length):\n",
    "        point = from_latlon(df['latitude'][i], df['longitude'][i])\n",
    "        utm_points['easting']  += [point[0]]\n",
    "        utm_points['northing'] += [point[1]]\n",
    "        utm_points['zone']  += [str(point[2]) + point[3]]\n",
    "    \n",
    "    return utm_points\n",
    "\n",
    "\n",
    "utm_points = utm_coordinates()\n",
    "df = df.assign(easting  = utm_points['easting'])\n",
    "df = df.assign(northing = utm_points['northing'])\n",
    "df = df.assign(zone     = utm_points['zone'])\n",
    "del(utm_points)\n",
    "df.head()"
   ]
  },
  {
   "cell_type": "markdown",
   "metadata": {
    "variables": {
     "list(df['zone'].value_counts().index)": "[&#39;35V&#39;]"
    }
   },
   "source": [
    "All points are in the same UTM zone {{list(df['zone'].value_counts().index)}}."
   ]
  },
  {
   "cell_type": "markdown",
   "metadata": {},
   "source": [
    "### Standardize easting and northing coordinates"
   ]
  },
  {
   "cell_type": "markdown",
   "metadata": {},
   "source": [
    "Outliers can negatively affect the performance of clustering algorithms. We will remove all points that are more than two standard deviations away from the mean value of easting or northing coordinates. \n",
    "\n",
    "If distribution is normal, by removing all points more than two standard deviations apart from the mean, we preserve 95% of observations. Distribution points in the dataset is not normal (we do not have almost any points to the left from the mean), however we will still keep at least 75% of observations (as guaranteed by Chebyshev's inequality)."
   ]
  },
  {
   "cell_type": "code",
   "execution_count": 36,
   "metadata": {},
   "outputs": [
    {
     "data": {
      "text/html": [
       "<div>\n",
       "<style scoped>\n",
       "    .dataframe tbody tr th:only-of-type {\n",
       "        vertical-align: middle;\n",
       "    }\n",
       "\n",
       "    .dataframe tbody tr th {\n",
       "        vertical-align: top;\n",
       "    }\n",
       "\n",
       "    .dataframe thead th {\n",
       "        text-align: right;\n",
       "    }\n",
       "</style>\n",
       "<table border=\"1\" class=\"dataframe\">\n",
       "  <thead>\n",
       "    <tr style=\"text-align: right;\">\n",
       "      <th></th>\n",
       "      <th>latitude</th>\n",
       "      <th>longitude</th>\n",
       "      <th>distance</th>\n",
       "      <th>easting</th>\n",
       "      <th>northing</th>\n",
       "      <th>zone</th>\n",
       "      <th>east_stand</th>\n",
       "      <th>north_stand</th>\n",
       "    </tr>\n",
       "  </thead>\n",
       "  <tbody>\n",
       "    <tr>\n",
       "      <th>0</th>\n",
       "      <td>62.59809</td>\n",
       "      <td>29.74448</td>\n",
       "      <td>0.353806</td>\n",
       "      <td>640891.548198</td>\n",
       "      <td>6.943807e+06</td>\n",
       "      <td>35V</td>\n",
       "      <td>-0.255468</td>\n",
       "      <td>-0.692230</td>\n",
       "    </tr>\n",
       "    <tr>\n",
       "      <th>1</th>\n",
       "      <td>62.59809</td>\n",
       "      <td>29.74448</td>\n",
       "      <td>0.353806</td>\n",
       "      <td>640891.548198</td>\n",
       "      <td>6.943807e+06</td>\n",
       "      <td>35V</td>\n",
       "      <td>-0.255468</td>\n",
       "      <td>-0.692230</td>\n",
       "    </tr>\n",
       "    <tr>\n",
       "      <th>2</th>\n",
       "      <td>62.59809</td>\n",
       "      <td>29.74448</td>\n",
       "      <td>0.353806</td>\n",
       "      <td>640891.548198</td>\n",
       "      <td>6.943807e+06</td>\n",
       "      <td>35V</td>\n",
       "      <td>-0.255468</td>\n",
       "      <td>-0.692230</td>\n",
       "    </tr>\n",
       "    <tr>\n",
       "      <th>3</th>\n",
       "      <td>62.61943</td>\n",
       "      <td>29.69410</td>\n",
       "      <td>3.587985</td>\n",
       "      <td>638207.064116</td>\n",
       "      <td>6.946074e+06</td>\n",
       "      <td>35V</td>\n",
       "      <td>-1.887428</td>\n",
       "      <td>1.256745</td>\n",
       "    </tr>\n",
       "    <tr>\n",
       "      <th>4</th>\n",
       "      <td>62.60326</td>\n",
       "      <td>29.74494</td>\n",
       "      <td>0.445963</td>\n",
       "      <td>640890.650678</td>\n",
       "      <td>6.944384e+06</td>\n",
       "      <td>35V</td>\n",
       "      <td>-0.256014</td>\n",
       "      <td>-0.196499</td>\n",
       "    </tr>\n",
       "  </tbody>\n",
       "</table>\n",
       "</div>"
      ],
      "text/plain": [
       "   latitude  longitude  distance        easting      northing zone  \\\n",
       "0  62.59809   29.74448  0.353806  640891.548198  6.943807e+06  35V   \n",
       "1  62.59809   29.74448  0.353806  640891.548198  6.943807e+06  35V   \n",
       "2  62.59809   29.74448  0.353806  640891.548198  6.943807e+06  35V   \n",
       "3  62.61943   29.69410  3.587985  638207.064116  6.946074e+06  35V   \n",
       "4  62.60326   29.74494  0.445963  640890.650678  6.944384e+06  35V   \n",
       "\n",
       "   east_stand  north_stand  \n",
       "0   -0.255468    -0.692230  \n",
       "1   -0.255468    -0.692230  \n",
       "2   -0.255468    -0.692230  \n",
       "3   -1.887428     1.256745  \n",
       "4   -0.256014    -0.196499  "
      ]
     },
     "execution_count": 36,
     "metadata": {},
     "output_type": "execute_result"
    }
   ],
   "source": [
    "df = df.assign(east_stand  = dm.vector_standard(df['easting']))\n",
    "df = df.assign(north_stand = dm.vector_standard(df['northing']))\n",
    "df.head()"
   ]
  },
  {
   "cell_type": "code",
   "execution_count": 37,
   "metadata": {},
   "outputs": [],
   "source": [
    "criteria_coord = abs(df['east_stand'])<2\n",
    "df = df[criteria_coord]\n",
    "\n",
    "criteria_coord = abs(df['north_stand'])<2\n",
    "df = df[criteria_coord]\n",
    "\n",
    "len_3 = len(df) # remeber the length of final dataset\n",
    "del(criteria_coord)\n",
    "\n",
    "df = df.reset_index(drop=True) # reset row names"
   ]
  },
  {
   "cell_type": "markdown",
   "metadata": {
    "variables": {
     "round(100 - len_3/len_2*100, 1)": "13.2",
     "round(df['distance'].quantile(0.95), 1)": "3.1",
     "round(dm.vector_max(df['distance']),1)": "4.1",
     "round(dm.vector_mean(df['distance']),1)": "1.2"
    }
   },
   "source": [
    "{{round(100 - len_3/len_2*100, 1)}}% of observations removed\n",
    "\n",
    "* 95% of observations are within {{round(df['distance'].quantile(0.95), 1)}} km from the city center\n",
    "* mean distance is {{round(dm.vector_mean(df['distance']),1)}} km\n",
    "* max distance is {{round(dm.vector_max(df['distance']),1)}} km"
   ]
  },
  {
   "cell_type": "markdown",
   "metadata": {},
   "source": [
    "### Plot reduced dataset"
   ]
  },
  {
   "cell_type": "markdown",
   "metadata": {},
   "source": [
    "After removing points not related to Joensuu we can see that there are at least 3 separate groups of points in terms of distance from the center."
   ]
  },
  {
   "cell_type": "code",
   "execution_count": 38,
   "metadata": {
    "run_control": {
     "marked": false
    }
   },
   "outputs": [
    {
     "data": {
      "image/png": "[encoded data removed]",
      "text/plain": [
       "<Figure size 360x360 with 1 Axes>"
      ]
     },
     "metadata": {},
     "output_type": "display_data"
    }
   ],
   "source": [
    "fig = plt.figure()\n",
    "fig.set_size_inches(5.0, 5.0)\n",
    "\n",
    "plt.hist(df[\"distance\"], 20, density = True)\n",
    "plt.xlabel(\"Distance to the Joensuu city center\")\n",
    "plt.ylabel(\"Probability density\")\n",
    "    \n",
    "plt.savefig ( \"distance_hist_2.pdf\" , bbox_inches =\"tight\")\n",
    "del(fig)"
   ]
  },
  {
   "cell_type": "markdown",
   "metadata": {},
   "source": [
    "Reduced dataset displayed on the map"
   ]
  },
  {
   "cell_type": "code",
   "execution_count": 39,
   "metadata": {
    "code_folding": []
   },
   "outputs": [],
   "source": [
    "# # Source: https://github.com/pbugnion/gmaps\n",
    "\n",
    "# gmaps.configure(api_key=\"XXXX\") # Google API key\n",
    "\n",
    "# joensuu_layer = gmaps.symbol_layer(\n",
    "#     df[['latitude', 'longitude']], fill_color=\"#737373\", fill_opacity=0.3, stroke_color=\"#737373\", stroke_opacity=0.3, scale=1\n",
    "# )\n",
    "# fig = gmaps.figure()\n",
    "# fig.add_layer(joensuu_layer)\n",
    "# fig"
   ]
  },
  {
   "cell_type": "markdown",
   "metadata": {},
   "source": [
    "![Coordinates on the map](img/map_not_all_points_3.png)\n",
    "<center>**Picture 2. Distribution of coordinate points from the reduced dataset**</center>"
   ]
  },
  {
   "cell_type": "markdown",
   "metadata": {},
   "source": [
    "### Normalize easting and northing coordinates"
   ]
  },
  {
   "cell_type": "markdown",
   "metadata": {},
   "source": [
    "Normalization will improve performance of clustering algorithms"
   ]
  },
  {
   "cell_type": "code",
   "execution_count": 40,
   "metadata": {},
   "outputs": [
    {
     "data": {
      "text/html": [
       "<div>\n",
       "<style scoped>\n",
       "    .dataframe tbody tr th:only-of-type {\n",
       "        vertical-align: middle;\n",
       "    }\n",
       "\n",
       "    .dataframe tbody tr th {\n",
       "        vertical-align: top;\n",
       "    }\n",
       "\n",
       "    .dataframe thead th {\n",
       "        text-align: right;\n",
       "    }\n",
       "</style>\n",
       "<table border=\"1\" class=\"dataframe\">\n",
       "  <thead>\n",
       "    <tr style=\"text-align: right;\">\n",
       "      <th></th>\n",
       "      <th>latitude</th>\n",
       "      <th>longitude</th>\n",
       "      <th>distance</th>\n",
       "      <th>easting</th>\n",
       "      <th>northing</th>\n",
       "      <th>zone</th>\n",
       "      <th>east_stand</th>\n",
       "      <th>north_stand</th>\n",
       "      <th>east_norm</th>\n",
       "      <th>north_norm</th>\n",
       "    </tr>\n",
       "  </thead>\n",
       "  <tbody>\n",
       "    <tr>\n",
       "      <th>0</th>\n",
       "      <td>62.59809</td>\n",
       "      <td>29.74448</td>\n",
       "      <td>0.353806</td>\n",
       "      <td>640891.548198</td>\n",
       "      <td>6.943807e+06</td>\n",
       "      <td>35V</td>\n",
       "      <td>-0.255468</td>\n",
       "      <td>-0.692230</td>\n",
       "      <td>0.438589</td>\n",
       "      <td>0.325563</td>\n",
       "    </tr>\n",
       "    <tr>\n",
       "      <th>1</th>\n",
       "      <td>62.59809</td>\n",
       "      <td>29.74448</td>\n",
       "      <td>0.353806</td>\n",
       "      <td>640891.548198</td>\n",
       "      <td>6.943807e+06</td>\n",
       "      <td>35V</td>\n",
       "      <td>-0.255468</td>\n",
       "      <td>-0.692230</td>\n",
       "      <td>0.438589</td>\n",
       "      <td>0.325563</td>\n",
       "    </tr>\n",
       "    <tr>\n",
       "      <th>2</th>\n",
       "      <td>62.59809</td>\n",
       "      <td>29.74448</td>\n",
       "      <td>0.353806</td>\n",
       "      <td>640891.548198</td>\n",
       "      <td>6.943807e+06</td>\n",
       "      <td>35V</td>\n",
       "      <td>-0.255468</td>\n",
       "      <td>-0.692230</td>\n",
       "      <td>0.438589</td>\n",
       "      <td>0.325563</td>\n",
       "    </tr>\n",
       "    <tr>\n",
       "      <th>3</th>\n",
       "      <td>62.61943</td>\n",
       "      <td>29.69410</td>\n",
       "      <td>3.587985</td>\n",
       "      <td>638207.064116</td>\n",
       "      <td>6.946074e+06</td>\n",
       "      <td>35V</td>\n",
       "      <td>-1.887428</td>\n",
       "      <td>1.256745</td>\n",
       "      <td>0.027969</td>\n",
       "      <td>0.815811</td>\n",
       "    </tr>\n",
       "    <tr>\n",
       "      <th>4</th>\n",
       "      <td>62.60326</td>\n",
       "      <td>29.74494</td>\n",
       "      <td>0.445963</td>\n",
       "      <td>640890.650678</td>\n",
       "      <td>6.944384e+06</td>\n",
       "      <td>35V</td>\n",
       "      <td>-0.256014</td>\n",
       "      <td>-0.196499</td>\n",
       "      <td>0.438452</td>\n",
       "      <td>0.450260</td>\n",
       "    </tr>\n",
       "  </tbody>\n",
       "</table>\n",
       "</div>"
      ],
      "text/plain": [
       "   latitude  longitude  distance        easting      northing zone  \\\n",
       "0  62.59809   29.74448  0.353806  640891.548198  6.943807e+06  35V   \n",
       "1  62.59809   29.74448  0.353806  640891.548198  6.943807e+06  35V   \n",
       "2  62.59809   29.74448  0.353806  640891.548198  6.943807e+06  35V   \n",
       "3  62.61943   29.69410  3.587985  638207.064116  6.946074e+06  35V   \n",
       "4  62.60326   29.74494  0.445963  640890.650678  6.944384e+06  35V   \n",
       "\n",
       "   east_stand  north_stand  east_norm  north_norm  \n",
       "0   -0.255468    -0.692230   0.438589    0.325563  \n",
       "1   -0.255468    -0.692230   0.438589    0.325563  \n",
       "2   -0.255468    -0.692230   0.438589    0.325563  \n",
       "3   -1.887428     1.256745   0.027969    0.815811  \n",
       "4   -0.256014    -0.196499   0.438452    0.450260  "
      ]
     },
     "execution_count": 40,
     "metadata": {},
     "output_type": "execute_result"
    }
   ],
   "source": [
    "df = df.assign(east_norm  = dm.vector_normal(df['easting']))\n",
    "df = df.assign(north_norm = dm.vector_normal(df['northing']))\n",
    "df.head()"
   ]
  },
  {
   "cell_type": "markdown",
   "metadata": {},
   "source": [
    "## Clustering"
   ]
  },
  {
   "cell_type": "markdown",
   "metadata": {},
   "source": [
    "### Kmeans"
   ]
  },
  {
   "cell_type": "markdown",
   "metadata": {},
   "source": [
    "Determine number of cluster - it seems that 5 clusters provide best balance bwetween number of clusters and distortion."
   ]
  },
  {
   "cell_type": "code",
   "execution_count": 41,
   "metadata": {},
   "outputs": [
    {
     "name": "stderr",
     "output_type": "stream",
     "text": [
      "C:\\Users\\Oleksa\\Anaconda3\\lib\\site-packages\\numpy\\core\\fromnumeric.py:2957: RuntimeWarning: Mean of empty slice.\n",
      "  out=out, **kwargs)\n",
      "C:\\Users\\Oleksa\\Anaconda3\\lib\\site-packages\\numpy\\core\\_methods.py:73: RuntimeWarning: invalid value encountered in true_divide\n",
      "  ret, rcount, out=ret, casting='unsafe', subok=False)\n"
     ]
    },
    {
     "data": {
      "image/png": "[encoded data removed]",
      "text/plain": [
       "<Figure size 432x288 with 1 Axes>"
      ]
     },
     "metadata": {},
     "output_type": "display_data"
    }
   ],
   "source": [
    "df_array = df[['east_norm', 'north_norm']]\n",
    "df_array = np.array(df_array)\n",
    "\n",
    "k_list = np.arange(2,16,1)\n",
    "inertia_list = []\n",
    "cluster_list = []\n",
    "    \n",
    "for k in k_list:\n",
    "\n",
    "    C =  kmeans.initial_centroids(df_array, k)\n",
    "    clusters, inertia = kmeans.find_kmeans_clusters(df_array, k, C)\n",
    "    cluster_list += [clusters]\n",
    "    inertia_list += [inertia]\n",
    "        \n",
    "plt.plot(k_list, inertia_list, 'k')\n",
    "plt.plot(k_list, inertia_list, 'ro')\n",
    "    \n",
    "plt.xlabel(\"Number of clusters\")\n",
    "plt.ylabel(\"Distortion\")\n",
    "plt.title(\"Elbow method\")\n",
    "\n",
    "del(k_list, clusters, inertia, df_array, inertia_list)"
   ]
  },
  {
   "cell_type": "markdown",
   "metadata": {},
   "source": [
    "Plot clusters"
   ]
  },
  {
   "cell_type": "code",
   "execution_count": 42,
   "metadata": {},
   "outputs": [
    {
     "data": {
      "image/png": "[encoded data removed]",
      "text/plain": [
       "<Figure size 720x504 with 1 Axes>"
      ]
     },
     "metadata": {},
     "output_type": "display_data"
    }
   ],
   "source": [
    "k = 5\n",
    "k_index = k-2\n",
    "title = \"Kmeans clustering. Number of clusters: \" + str(k)\n",
    "\n",
    "df_plot = df[['easting', 'northing']]\n",
    "df_plot = np.array(df_plot)\n",
    "kmeans.plot_clusters(df_plot, k, cluster_list[k_index])\n",
    "    \n",
    "plt.xlabel(\"Easting coordinates\")\n",
    "plt.ylabel(\"Northing coordinates\")\n",
    "plt.title(title)\n",
    "\n",
    "del(k, k_index, title, df_plot)"
   ]
  },
  {
   "cell_type": "markdown",
   "metadata": {},
   "source": [
    "### Hierarchical clustering"
   ]
  },
  {
   "cell_type": "markdown",
   "metadata": {},
   "source": [
    "Our implementation of hierarchical clustering is quite slow - it took 39 hours to calculate all clusters (start: each point in its own cluster, end: all points in one clusters). After some optimization algorithm became much faster (details will described in the report), however it still requires a lot of time to run.\n",
    "\n",
    "Code for hierarchical clustering is in the file \"dm_functions_hierarchy_vector\""
   ]
  },
  {
   "cell_type": "code",
   "execution_count": 43,
   "metadata": {},
   "outputs": [],
   "source": [
    "# download clustering results - last 14 iterations\n",
    "df_hierarchical = pd.read_csv('./data/hierarchical_clustering_14.csv', sep=\";\")"
   ]
  },
  {
   "cell_type": "code",
   "execution_count": 44,
   "metadata": {},
   "outputs": [
    {
     "data": {
      "text/html": [
       "<div>\n",
       "<style scoped>\n",
       "    .dataframe tbody tr th:only-of-type {\n",
       "        vertical-align: middle;\n",
       "    }\n",
       "\n",
       "    .dataframe tbody tr th {\n",
       "        vertical-align: top;\n",
       "    }\n",
       "\n",
       "    .dataframe thead th {\n",
       "        text-align: right;\n",
       "    }\n",
       "</style>\n",
       "<table border=\"1\" class=\"dataframe\">\n",
       "  <thead>\n",
       "    <tr style=\"text-align: right;\">\n",
       "      <th></th>\n",
       "      <th>iteration</th>\n",
       "      <th>group</th>\n",
       "      <th>points</th>\n",
       "      <th>group_number</th>\n",
       "      <th>share_inside</th>\n",
       "      <th>n_points</th>\n",
       "    </tr>\n",
       "  </thead>\n",
       "  <tbody>\n",
       "    <tr>\n",
       "      <th>0</th>\n",
       "      <td>3647</td>\n",
       "      <td>7297</td>\n",
       "      <td>[1559, 3405, 650, 1214, 48, 1206, 49, 1992, 22...</td>\n",
       "      <td>5</td>\n",
       "      <td>100</td>\n",
       "      <td>2325</td>\n",
       "    </tr>\n",
       "    <tr>\n",
       "      <th>1</th>\n",
       "      <td>3647</td>\n",
       "      <td>7295</td>\n",
       "      <td>[2028, 2104, 354, 370, 235, 353, 371, 234, 262...</td>\n",
       "      <td>5</td>\n",
       "      <td>100</td>\n",
       "      <td>616</td>\n",
       "    </tr>\n",
       "    <tr>\n",
       "      <th>2</th>\n",
       "      <td>3647</td>\n",
       "      <td>7292</td>\n",
       "      <td>[2367, 3207, 1840, 1841, 1868, 2270, 2271, 249...</td>\n",
       "      <td>5</td>\n",
       "      <td>100</td>\n",
       "      <td>500</td>\n",
       "    </tr>\n",
       "    <tr>\n",
       "      <th>3</th>\n",
       "      <td>3647</td>\n",
       "      <td>7298</td>\n",
       "      <td>[1048, 1515, 1345, 2120, 2004, 1514, 3221, 200...</td>\n",
       "      <td>5</td>\n",
       "      <td>100</td>\n",
       "      <td>141</td>\n",
       "    </tr>\n",
       "    <tr>\n",
       "      <th>4</th>\n",
       "      <td>3647</td>\n",
       "      <td>7288</td>\n",
       "      <td>[7, 3602, 3575, 3581, 3524, 3525, 3540, 3541, ...</td>\n",
       "      <td>5</td>\n",
       "      <td>100</td>\n",
       "      <td>70</td>\n",
       "    </tr>\n",
       "  </tbody>\n",
       "</table>\n",
       "</div>"
      ],
      "text/plain": [
       "   iteration  group                                             points  \\\n",
       "0       3647   7297  [1559, 3405, 650, 1214, 48, 1206, 49, 1992, 22...   \n",
       "1       3647   7295  [2028, 2104, 354, 370, 235, 353, 371, 234, 262...   \n",
       "2       3647   7292  [2367, 3207, 1840, 1841, 1868, 2270, 2271, 249...   \n",
       "3       3647   7298  [1048, 1515, 1345, 2120, 2004, 1514, 3221, 200...   \n",
       "4       3647   7288  [7, 3602, 3575, 3581, 3524, 3525, 3540, 3541, ...   \n",
       "\n",
       "   group_number  share_inside  n_points  \n",
       "0             5           100      2325  \n",
       "1             5           100       616  \n",
       "2             5           100       500  \n",
       "3             5           100       141  \n",
       "4             5           100        70  "
      ]
     },
     "execution_count": 44,
     "metadata": {},
     "output_type": "execute_result"
    }
   ],
   "source": [
    "# keep only iteration with 5 clusters\n",
    "df_hier_5 = df_hierarchical[df_hierarchical[\"group_number\"]==5]\n",
    "\n",
    "df_hier_5 = df_hier_5.sort_values(by=['n_points'], ascending=False)\n",
    "df_hier_5 = df_hier_5.reset_index(drop=True) # reset row names\n",
    "\n",
    "df_hier_5.head()"
   ]
  },
  {
   "cell_type": "code",
   "execution_count": 45,
   "metadata": {},
   "outputs": [],
   "source": [
    "# construct vector with clusters identifiers\n",
    "clusters_hier =  pd.DataFrame(columns=['points', 'cluster'])\n",
    "\n",
    "for i in range(df_hier_5.shape[0]):\n",
    "    \n",
    "    points = literal_eval(df_hier_5['points'][i])\n",
    "\n",
    "    one_cluster = pd.DataFrame({\"points\": points,\n",
    "                                \"cluster\": i+1})\n",
    "    \n",
    "    clusters_hier = pd.concat([clusters_hier, one_cluster])\n",
    "    \n",
    "clusters_hier = clusters_hier.sort_values(by=['points'])\n",
    "clusters_hier = clusters_hier.reset_index(drop=True) # reset row names"
   ]
  },
  {
   "cell_type": "markdown",
   "metadata": {},
   "source": [
    "Plot 5 hierarchical clusters"
   ]
  },
  {
   "cell_type": "code",
   "execution_count": 46,
   "metadata": {},
   "outputs": [
    {
     "data": {
      "image/png": "[encoded data removed]",
      "text/plain": [
       "<Figure size 720x504 with 1 Axes>"
      ]
     },
     "metadata": {},
     "output_type": "display_data"
    }
   ],
   "source": [
    "clusters_hier = np.array(clusters_hier['cluster']).reshape(clusters_hier.shape[0],1)\n",
    "\n",
    "k = 5\n",
    "title = \"Hierarchical clustering. Number of clusters: \" + str(k)\n",
    "\n",
    "df_plot = df[['easting', 'northing']]\n",
    "df_plot = np.array(df_plot)\n",
    "kmeans.plot_clusters(df_plot, k, clusters_hier)\n",
    "    \n",
    "plt.xlabel(\"Easting coordinates\")\n",
    "plt.ylabel(\"Northing coordinates\")\n",
    "plt.title(title)\n",
    "\n",
    "del(k, title, df_plot)"
   ]
  },
  {
   "cell_type": "markdown",
   "metadata": {},
   "source": [
    "Save data as csv files"
   ]
  },
  {
   "cell_type": "code",
   "execution_count": 8,
   "metadata": {},
   "outputs": [],
   "source": [
    "df.to_csv(\"coordinates_pandas.csv\", sep=',', index =False)"
   ]
  },
  {
   "cell_type": "markdown",
   "metadata": {},
   "source": [
    "Download csv files saved at the computer"
   ]
  },
  {
   "cell_type": "code",
   "execution_count": 4,
   "metadata": {},
   "outputs": [],
   "source": [
    "df = pd.read_csv('./data/coordinates_pandas.csv')"
   ]
  }
 ],
 "metadata": {
  "kernelspec": {
   "display_name": "Python 3",
   "language": "python",
   "name": "python3"
  },
  "language_info": {
   "codemirror_mode": {
    "name": "ipython",
    "version": 3
   },
   "file_extension": ".py",
   "mimetype": "text/x-python",
   "name": "python",
   "nbconvert_exporter": "python",
   "pygments_lexer": "ipython3",
   "version": "3.7.3"
  },
  "toc": {
   "base_numbering": 1,
   "nav_menu": {},
   "number_sections": false,
   "sideBar": true,
   "skip_h1_title": false,
   "title_cell": "Table of Contents",
   "title_sidebar": "Contents",
   "toc_cell": false,
   "toc_position": {
    "height": "calc(100% - 180px)",
    "left": "10px",
    "top": "150px",
    "width": "307px"
   },
   "toc_section_display": true,
   "toc_window_display": true
  },
  "varInspector": {
   "cols": {
    "lenName": 16,
    "lenType": 16,
    "lenVar": 40
   },
   "kernels_config": {
    "python": {
     "delete_cmd_postfix": "",
     "delete_cmd_prefix": "del ",
     "library": "var_list.py",
     "varRefreshCmd": "print(var_dic_list())"
    },
    "r": {
     "delete_cmd_postfix": ") ",
     "delete_cmd_prefix": "rm(",
     "library": "var_list.r",
     "varRefreshCmd": "cat(var_dic_list()) "
    }
   },
   "oldHeight": 211.4,
   "position": {
    "height": "233px",
    "left": "942px",
    "right": "169px",
    "top": "120px",
    "width": "425px"
   },
   "types_to_exclude": [
    "module",
    "function",
    "builtin_function_or_method",
    "instance",
    "_Feature"
   ],
   "varInspector_section_display": "block",
   "window_display": false
  }
 },
 "nbformat": 4,
 "nbformat_minor": 2
}
